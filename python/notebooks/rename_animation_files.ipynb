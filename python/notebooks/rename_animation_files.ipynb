{
 "cells": [
  {
   "cell_type": "code",
   "execution_count": 91,
   "metadata": {},
   "outputs": [],
   "source": [
    "import os\n",
    "import tqdm\n",
    "import shutil"
   ]
  },
  {
   "cell_type": "markdown",
   "metadata": {},
   "source": [
    "#### CONFIGURACION SCRIPT"
   ]
  },
  {
   "cell_type": "code",
   "execution_count": 53,
   "metadata": {},
   "outputs": [],
   "source": [
    "route = 'assets/proyects/animations/character/standby/astral/x16'\n",
    "animid = 'anim_00001'\n",
    "extension = '.png'"
   ]
  },
  {
   "cell_type": "markdown",
   "metadata": {},
   "source": [
    "#### CONFIGURACION DE ENTORNO"
   ]
  },
  {
   "cell_type": "code",
   "execution_count": 50,
   "metadata": {},
   "outputs": [
    {
     "name": "stdout",
     "output_type": "stream",
     "text": [
      "Cambiando direccion desde: d:\\Users\\Andriu\\Main\\ARTE\\Unity\\AstralSprint a d:\\Users\\Andriu\\Main\\ARTE\\Unity\\AstralSprint\n",
      "\n",
      "Direccion actual:  d:\\Users\\Andriu\\Main\\ARTE\\Unity\\AstralSprint\n"
     ]
    }
   ],
   "source": [
    "startfolder = os.getcwd()\n",
    "\n",
    "basename = 'AstralSprint'\n",
    "basefolder = startfolder.split(basename)[0] + basename\n",
    "\n",
    "print('Cambiando direccion desde:', startfolder, 'a', basefolder)\n",
    "os.chdir(basefolder)\n",
    "\n",
    "print('\\nDireccion actual: ', os.getcwd())"
   ]
  },
  {
   "cell_type": "code",
   "execution_count": 54,
   "metadata": {},
   "outputs": [],
   "source": [
    "infolder = route\n",
    "\n",
    "if infolder[-1] != '/':\n",
    "    infolder = infolder + '/'\n",
    "\n",
    "if not os.path.exists(infolder):\n",
    "    print('Error: Folder does not exist ...', infolder)"
   ]
  },
  {
   "cell_type": "code",
   "execution_count": 94,
   "metadata": {},
   "outputs": [],
   "source": [
    "outfolder = infolder + 'del/'\n",
    "\n",
    "if not os.path.exists(outfolder):\n",
    "    os.mkdir(outfolder)\n",
    "else:\n",
    "    files = os.listdir(outfolder)\n",
    "    for x in files:\n",
    "        os.remove(outfolder + x)\n",
    "    del(x, files)"
   ]
  },
  {
   "cell_type": "markdown",
   "metadata": {},
   "source": [
    "### LEER ARCHIVOS DE INPUT"
   ]
  },
  {
   "cell_type": "code",
   "execution_count": 84,
   "metadata": {},
   "outputs": [
    {
     "name": "stdout",
     "output_type": "stream",
     "text": [
      "Loaded files: 10\n"
     ]
    }
   ],
   "source": [
    "files = os.listdir(infolder)\n",
    "files = [x for x in files if x.endswith(extension)]\n",
    "files = [x for x in files if not x.startswith(animid)]\n",
    "\n",
    "print('Loaded files:', len(files))"
   ]
  },
  {
   "cell_type": "code",
   "execution_count": 87,
   "metadata": {},
   "outputs": [
    {
     "name": "stdout",
     "output_type": "stream",
     "text": [
      "Original: ['1.png', '10.png', '2.png', '3.png', '4.png', '5.png', '6.png', '7.png', '8.png', '9.png']\n",
      "Fixed: ['01.png', '10.png', '02.png', '03.png', '04.png', '05.png', '06.png', '07.png', '08.png', '09.png']\n"
     ]
    }
   ],
   "source": [
    "nums = [int(x.split(extension)[0]) for x in files]\n",
    "nmax = str(max(nums))\n",
    "lmax = len(nmax)\n",
    "\n",
    "def fix_len(x):\n",
    "    xl = len(str(x))\n",
    "    if xl < lmax:\n",
    "        y = '0' * (lmax - xl) + str(x)\n",
    "    else:\n",
    "        y = str(x)\n",
    "    return y\n",
    "\n",
    "nums = [str(x) for x in nums]\n",
    "nums_fix = [fix_len(x) for x in nums]\n",
    "\n",
    "files_original = [x + extension for x in nums]\n",
    "files_fixed = [x + extension for x in nums_fix]\n",
    "\n",
    "print('Original:', files_original)\n",
    "print('Fixed:', files_fixed)"
   ]
  },
  {
   "cell_type": "code",
   "execution_count": 99,
   "metadata": {},
   "outputs": [
    {
     "name": "stdout",
     "output_type": "stream",
     "text": [
      "Original: assets/proyects/animations/character/standby/astral/x16/1.png\n",
      "Fixed: assets/proyects/animations/character/standby/astral/x16/anim_00001_01.png\n",
      "Delete: assets/proyects/animations/character/standby/astral/x16/del/1.png\n"
     ]
    }
   ],
   "source": [
    "files_anim = [animid + '_' + x for x in files_fixed]\n",
    "\n",
    "infiles = [infolder + x for x in files_original]\n",
    "outfiles = [infolder + x for x in files_anim]\n",
    "delfiles = [outfolder + x for x in files_original]\n",
    "\n",
    "print('Original:', infiles[0])\n",
    "print('Fixed:', outfiles[0])\n",
    "print('Delete:', delfiles[0])"
   ]
  },
  {
   "cell_type": "markdown",
   "metadata": {},
   "source": [
    "#### PROCESAR Y EXPORTAR ARCHIVOS"
   ]
  },
  {
   "cell_type": "code",
   "execution_count": 96,
   "metadata": {},
   "outputs": [],
   "source": [
    "def backup_files(inlist, dellist):\n",
    "    for i in tqdm.tqdm(range(len(inlist))):\n",
    "        origen = inlist[i]\n",
    "        destino = dellist[i]\n",
    "        shutil.copyfile(origen, destino)\n",
    "\n",
    "def change_names(inlist, outlist):\n",
    "    for i in tqdm.tqdm(range(len(inlist))):\n",
    "        origen = inlist[i]\n",
    "        destino = outlist[i]\n",
    "        os.rename(origen, destino)"
   ]
  },
  {
   "cell_type": "code",
   "execution_count": 97,
   "metadata": {},
   "outputs": [
    {
     "name": "stderr",
     "output_type": "stream",
     "text": [
      "100%|██████████| 10/10 [00:00<00:00, 1481.35it/s]\n"
     ]
    }
   ],
   "source": [
    "backup_files(infiles, delfiles)"
   ]
  },
  {
   "cell_type": "code",
   "execution_count": null,
   "metadata": {},
   "outputs": [],
   "source": [
    "change_names(infiles, outfiles)"
   ]
  }
 ],
 "metadata": {
  "kernelspec": {
   "display_name": "astralspdev",
   "language": "python",
   "name": "python3"
  },
  "language_info": {
   "codemirror_mode": {
    "name": "ipython",
    "version": 3
   },
   "file_extension": ".py",
   "mimetype": "text/x-python",
   "name": "python",
   "nbconvert_exporter": "python",
   "pygments_lexer": "ipython3",
   "version": "3.12.0"
  }
 },
 "nbformat": 4,
 "nbformat_minor": 2
}
